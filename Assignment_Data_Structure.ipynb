{
  "nbformat": 4,
  "nbformat_minor": 0,
  "metadata": {
    "colab": {
      "provenance": [],
      "authorship_tag": "ABX9TyPRuEHOn+Fd9r4iMkXkD5vO",
      "include_colab_link": true
    },
    "kernelspec": {
      "name": "python3",
      "display_name": "Python 3"
    },
    "language_info": {
      "name": "python"
    }
  },
  "cells": [
    {
      "cell_type": "markdown",
      "metadata": {
        "id": "view-in-github",
        "colab_type": "text"
      },
      "source": [
        "<a href=\"https://colab.research.google.com/github/Washk/PWA/blob/main/Assignment_Data_Structure.ipynb\" target=\"_parent\"><img src=\"https://colab.research.google.com/assets/colab-badge.svg\" alt=\"Open In Colab\"/></a>"
      ]
    },
    {
      "cell_type": "markdown",
      "source": [
        "# Assignment on Data Structures in Python:"
      ],
      "metadata": {
        "id": "GycaNG4EBipC"
      }
    },
    {
      "cell_type": "code",
      "source": [],
      "metadata": {
        "id": "RtwrcTwaMr3y"
      },
      "execution_count": null,
      "outputs": []
    },
    {
      "cell_type": "code",
      "execution_count": null,
      "metadata": {
        "colab": {
          "base_uri": "https://localhost:8080/"
        },
        "id": "7XmRFqXGAcsJ",
        "outputId": "51335b1d-699c-4ca0-cb54-6a604fa89936"
      },
      "outputs": [
        {
          "output_type": "stream",
          "name": "stdout",
          "text": [
            "Enter a string to reverse it:Python\n",
            "Reversed string is: nohtyP\n"
          ]
        }
      ],
      "source": [
        "# 1. Write a code to reverse a string.\n",
        "str=input(\"Enter a string to reverse it:\")\n",
        "rev=str[::-1]\n",
        "print(\"Reversed string is:\",rev)"
      ]
    },
    {
      "cell_type": "code",
      "source": [
        "# 2. Write a code to count the number of vowels in a string.\n",
        "str=input(\"Enter the sting:\")\n",
        "count=0\n",
        "for letter in str:\n",
        "  if(letter==\"A\" or letter==\"E\" or letter==\"I\" or letter==\"O\" or letter==\"U\" or letter==\"a\" or letter==\"e\" or letter==\"i\" or letter==\"o\" or letter==\"u\"):\n",
        "    count=count+1\n",
        "if count!=0:\n",
        "  print(f\"No.of vowels in {str} are {count}\")\n",
        "else:\n",
        "  print(f\"No.of vowels in {str} is {count}\")"
      ],
      "metadata": {
        "colab": {
          "base_uri": "https://localhost:8080/"
        },
        "id": "Sar7d_lFBx5s",
        "outputId": "c92d0ee0-e0d3-48e9-8656-508b897dbd91"
      },
      "execution_count": null,
      "outputs": [
        {
          "output_type": "stream",
          "name": "stdout",
          "text": [
            "Enter the sting:tyrwys\n",
            "No.of vowels in tyrwys is 0\n"
          ]
        }
      ]
    },
    {
      "cell_type": "code",
      "source": [
        "# 3. Write a code to check if a given string is a palindrome or not\n",
        "str=input(\"Enter the string:\")\n",
        "if str.lower()==str[::-1].lower():\n",
        "  print(f\"Yes,the given string {str} is a Palindrome.\")\n",
        "else:\n",
        "  print(f\"No,the given string {str} is not a Palindrome.\")\n"
      ],
      "metadata": {
        "colab": {
          "base_uri": "https://localhost:8080/"
        },
        "id": "ftABj6XmMvNm",
        "outputId": "f785eb02-3455-438b-bdfe-0e881cd40bec"
      },
      "execution_count": null,
      "outputs": [
        {
          "output_type": "stream",
          "name": "stdout",
          "text": [
            "Enter the string:pwskills\n",
            "No,the given string pwskills is not a Palindrome.\n"
          ]
        }
      ]
    },
    {
      "cell_type": "code",
      "source": [
        "# 4. Write a code to check if two strings are anagrams of each other.\n",
        "str1=input(\"Enter the first string:\")\n",
        "str2=input(\"Entre the second string:\")\n",
        "list1=list(str1)\n",
        "list2=list(str2)\n",
        "list1.sort()\n",
        "list2.sort()\n",
        "if list1==list2:\n",
        "  print(f\"{str1} and {str2} are anagrams of each other.\")\n",
        "else:\n",
        "  print(f\"{str1} and {str2} are not anagrams of each other.\")"
      ],
      "metadata": {
        "colab": {
          "base_uri": "https://localhost:8080/"
        },
        "id": "u-gWvMxoOUWb",
        "outputId": "c8a5c1ef-f1f9-4a84-b7f6-ead00864b9f0"
      },
      "execution_count": null,
      "outputs": [
        {
          "output_type": "stream",
          "name": "stdout",
          "text": [
            "Enter the first string:wow\n",
            "Entre the second string:woo\n",
            "wow and woo are not anagrams of each other.\n"
          ]
        }
      ]
    },
    {
      "cell_type": "markdown",
      "source": [],
      "metadata": {
        "id": "SswpnHvsMxUD"
      }
    },
    {
      "cell_type": "code",
      "source": [
        "# 5. Write a code to find all occurrences of a given substring within another string.\n",
        "string=input(\"Enter a String:\")\n",
        "substring=input(\"Enter a substring to find it's occurrences in the String:\")\n",
        "count=string.count(substring,0,len(string))\n",
        "if count>0:\n",
        "  print(f\"No of. occurrences of {substring} in the {string} are {count}\")\n",
        "else:\n",
        "  print(f\"No of. occurrences of {substring} in the {string} is {count}\")\n"
      ],
      "metadata": {
        "colab": {
          "base_uri": "https://localhost:8080/"
        },
        "id": "AB0xYiIOx90f",
        "outputId": "f2b1232b-f187-422c-9a62-3eb2ef0bf4b9"
      },
      "execution_count": null,
      "outputs": [
        {
          "output_type": "stream",
          "name": "stdout",
          "text": [
            "Enter a String:Na rahoon tou loi gum nhi\n",
            "Enter a substring to find it's occurrences in the String:khushi\n",
            "No of. occurrences of khushi in the Na rahoon tou loi gum nhi is 0\n"
          ]
        }
      ]
    },
    {
      "cell_type": "code",
      "source": [
        "# 6. Write a code to perform basic string compression using the counts of repeated characters.\n",
        "string=input(\"Enter the string:\")\n",
        "i=0\n",
        "comp_str=\"\"\n",
        "while i in range(len(string)):\n",
        "  if string.count(string[i],i,len(string))>1:\n",
        "    comp_str+=\"\"\n",
        "  else:\n",
        "    comp_str=comp_str+string[i]\n",
        "  i=i+1\n",
        "print(f\"compressed string is: {comp_str}\")\n"
      ],
      "metadata": {
        "colab": {
          "base_uri": "https://localhost:8080/"
        },
        "id": "nu7Nqh2X5qMm",
        "outputId": "32127f34-c06d-4cd1-f626-5f9b9eb31359"
      },
      "execution_count": null,
      "outputs": [
        {
          "output_type": "stream",
          "name": "stdout",
          "text": [
            "Enter the string:Yipppeeeeee hurrayyyyy!!!\n",
            "compressed string is: Yipe huray!\n"
          ]
        }
      ]
    },
    {
      "cell_type": "code",
      "source": [
        "# 7. Write a code to determine if a string has all unique characters.\n",
        "str1=input(\"Enter the string:\")\n",
        "flag=1\n",
        "i=0\n",
        "while i in range(len(str1)):\n",
        "  if str1.count(str1[i],i,len(str1))>1:\n",
        "    flag=0\n",
        "    break\n",
        "  i=i+1\n",
        "\n",
        "if flag==1:\n",
        "  print(f\"{str1} has all unique characters.\")\n",
        "else:\n",
        "  print(f\"{str1} has no unique characters.\")\n"
      ],
      "metadata": {
        "colab": {
          "base_uri": "https://localhost:8080/"
        },
        "id": "hSUOCIANOGay",
        "outputId": "3f23ce19-8bfa-4646-8320-46bdb8082923"
      },
      "execution_count": null,
      "outputs": [
        {
          "output_type": "stream",
          "name": "stdout",
          "text": [
            "Enter the string:Computer\n",
            "Computer has all unique characters.\n"
          ]
        }
      ]
    },
    {
      "cell_type": "code",
      "source": [
        "# 8. Write a code to convert a given string to uppercase or lowercase.\n",
        "str2=input(\"Enter the string:\")\n",
        "print(str2.upper())\n",
        "print(str2.lower())"
      ],
      "metadata": {
        "colab": {
          "base_uri": "https://localhost:8080/"
        },
        "id": "sn5EJM2lR7jg",
        "outputId": "e0240590-ddb3-4492-ecb1-08800e668764"
      },
      "execution_count": null,
      "outputs": [
        {
          "output_type": "stream",
          "name": "stdout",
          "text": [
            "Enter the string:Computer\n",
            "COMPUTER\n",
            "computer\n"
          ]
        }
      ]
    },
    {
      "cell_type": "code",
      "source": [
        "# 9. Write a code to count the number of words in a string\n",
        "str1=input(\"Enter a string:\")\n",
        "count=0\n",
        "for word in str1:\n",
        "  if word!=\" \":\n",
        "    count+=1\n",
        "if count>1:\n",
        "  print(f\"No. of words in {str1} are {count}\")\n",
        "else:\n",
        "  print(f\"No. of words in {str1} is {count}\")\n",
        "\n"
      ],
      "metadata": {
        "colab": {
          "base_uri": "https://localhost:8080/"
        },
        "id": "_5liUkWNms-D",
        "outputId": "be43270b-251e-4f32-f24d-fb8fbffa6f64"
      },
      "execution_count": null,
      "outputs": [
        {
          "output_type": "stream",
          "name": "stdout",
          "text": [
            "Enter a string:i\n",
            "No. of words in i is 1\n"
          ]
        }
      ]
    },
    {
      "cell_type": "code",
      "source": [
        "# 10. Write a code to concatenate two strings without using the + operator\n",
        "str1=\"Google\"\n",
        "str2=\"Colab\"\n",
        "print(f\"{str1}{str2}\")"
      ],
      "metadata": {
        "colab": {
          "base_uri": "https://localhost:8080/"
        },
        "id": "7L_Mj0KVorAS",
        "outputId": "3718fc8f-8d48-474b-b289-4031563fa0c7"
      },
      "execution_count": 8,
      "outputs": [
        {
          "output_type": "stream",
          "name": "stdout",
          "text": [
            "GoogleColab\n"
          ]
        }
      ]
    },
    {
      "cell_type": "code",
      "source": [
        "# 11. Write a code to remove all occurrences of a specific element from a list.\n",
        "item=input(\"Enter an element to remove all the occurrences from the list: \")\n",
        "list1=[\"mango\",\"chef\",23,45,\"mango\",67.69,True,\"mango\"]\n",
        "newlist=[i for i in list1 if i!=item]\n",
        "print(newlist)\n"
      ],
      "metadata": {
        "id": "3Lu32V2wBNu2",
        "colab": {
          "base_uri": "https://localhost:8080/"
        },
        "outputId": "eee35539-cf96-4f3e-c962-c085273231d3"
      },
      "execution_count": null,
      "outputs": [
        {
          "output_type": "stream",
          "name": "stdout",
          "text": [
            "Enter an element to remove all the occurrences from the list: mango\n",
            "['chef', 23, 45, 67.69, True]\n"
          ]
        }
      ]
    },
    {
      "cell_type": "code",
      "source": [
        "# 12. Implement a code to find the second largest number in a given list of integers.\n",
        "list2=[23,89,5,67,78,100,4]\n",
        "list2.sort(reverse=True)\n",
        "print(f\"The second largest number in the list is :{list2[1]}\")"
      ],
      "metadata": {
        "colab": {
          "base_uri": "https://localhost:8080/"
        },
        "id": "0KKTAU9WGw4T",
        "outputId": "7bdc5ac7-9df2-475c-86d9-51e45d9a169b"
      },
      "execution_count": null,
      "outputs": [
        {
          "output_type": "stream",
          "name": "stdout",
          "text": [
            "The second largest number in the list is :89\n"
          ]
        }
      ]
    },
    {
      "cell_type": "code",
      "source": [
        "# 13. Create a code to count the occurrences of each element in a list and return a dictionary with elements as keys and their counts as values.\n",
        "list3=[4,5,6,7,7,7,4,5,5]\n",
        "#list3.sort()\n",
        "dic={}\n",
        "for i in list3:\n",
        "  count=list3.count(i)\n",
        "  dic[i]=count\n",
        "\n",
        "print(dic)\n",
        "\n"
      ],
      "metadata": {
        "colab": {
          "base_uri": "https://localhost:8080/"
        },
        "id": "b-W-CglzTQ8n",
        "outputId": "0c4bb909-74b5-4197-f41f-560fa2192bf9"
      },
      "execution_count": null,
      "outputs": [
        {
          "output_type": "stream",
          "name": "stdout",
          "text": [
            "{4: 2, 5: 3, 6: 1, 7: 3}\n"
          ]
        }
      ]
    },
    {
      "cell_type": "code",
      "source": [
        "# 14. Write a code to reverse a list in-place without using any in built reverse function.\n",
        "list1=[2,13,56,7,\"reverse\",\"list\",5]\n",
        "revrse_list=list1[::-1]\n",
        "print(f\"The reversed list is {revrse_list}\")"
      ],
      "metadata": {
        "colab": {
          "base_uri": "https://localhost:8080/"
        },
        "id": "_rDC6GoXveE_",
        "outputId": "8a87ecdb-744e-4aa9-ecfd-c14762172658"
      },
      "execution_count": null,
      "outputs": [
        {
          "output_type": "stream",
          "name": "stdout",
          "text": [
            "The reversed list is [5, 'list', 'reverse', 7, 56, 13, 2]\n"
          ]
        }
      ]
    },
    {
      "cell_type": "code",
      "source": [
        "# 15. Implement a code to find and remove duplictes from a list while preserving the original order of elements.\n",
        "list_num=[14,23,5,14,6,3,6,45]\n",
        "newlist=[]\n",
        "for i in list_num:\n",
        "  count=list_num.count(i)\n",
        "  if count!=2:\n",
        "    newlist.append(i)\n",
        "\n",
        "print(newlist)"
      ],
      "metadata": {
        "colab": {
          "base_uri": "https://localhost:8080/"
        },
        "id": "Br1R4OQvwdck",
        "outputId": "028f9e78-78ef-4f46-b154-ae871ed72191"
      },
      "execution_count": null,
      "outputs": [
        {
          "output_type": "stream",
          "name": "stdout",
          "text": [
            "[23, 5, 3, 45]\n"
          ]
        }
      ]
    },
    {
      "cell_type": "code",
      "source": [
        "# 16. Create a code to check if a given list is sorted(either in ascending or descending order) or not.\n",
        "l1=[44,35,22,19,444]\n",
        "def check_sorted(l):\n",
        "  if l==sorted(l) or l==sorted(l,reverse=True):\n",
        "    return True\n",
        "  else:\n",
        "    return False\n",
        "\n",
        "ans=check_sorted(l1)\n",
        "print(ans)\n",
        "\n"
      ],
      "metadata": {
        "colab": {
          "base_uri": "https://localhost:8080/"
        },
        "id": "guVb77OW_Qut",
        "outputId": "379f0cb4-b12f-47ef-9baa-3ae6a1af2b07"
      },
      "execution_count": null,
      "outputs": [
        {
          "output_type": "stream",
          "name": "stdout",
          "text": [
            "False\n"
          ]
        }
      ]
    },
    {
      "cell_type": "code",
      "source": [
        "# 17. Write a code to merge two sorted lists into a single sorted list.\n",
        "list1=[2,3,4,5,6]\n",
        "list2=[13,11,7,5]\n",
        "list3=sorted(list1+list2)\n",
        "print(list3)"
      ],
      "metadata": {
        "colab": {
          "base_uri": "https://localhost:8080/"
        },
        "id": "pKT42ArDbh6l",
        "outputId": "f423d85e-769b-41fc-c58d-af517a688202"
      },
      "execution_count": null,
      "outputs": [
        {
          "output_type": "stream",
          "name": "stdout",
          "text": [
            "[2, 3, 4, 5, 5, 6, 7, 11, 13]\n"
          ]
        }
      ]
    },
    {
      "cell_type": "code",
      "source": [
        "# 18. Implement a code to find the intersection of two given lists.\n",
        "lst1=[23,45,2.45,\"common\",45]\n",
        "lst2=[\"common\",34,5.78,45]\n",
        "common_lst=list(set(lst1).intersection(set(lst2)))\n",
        "print(common_lst)"
      ],
      "metadata": {
        "colab": {
          "base_uri": "https://localhost:8080/"
        },
        "id": "8ABCbzGXd_k0",
        "outputId": "4e91a198-887e-4772-ec6d-6cab3a73c428"
      },
      "execution_count": null,
      "outputs": [
        {
          "output_type": "stream",
          "name": "stdout",
          "text": [
            "['common', 45]\n"
          ]
        }
      ]
    },
    {
      "cell_type": "code",
      "source": [
        "# 19. Create a code to find the union of two lists without duplicates.\n",
        "list1=[23,45,67,\"pw\"]\n",
        "list2=[4,23,67,\"skills\",18]\n",
        "comb_list=list(set(list1).union(set(list2)))\n",
        "print(comb_list)"
      ],
      "metadata": {
        "colab": {
          "base_uri": "https://localhost:8080/"
        },
        "id": "IXn27M3fcURH",
        "outputId": "fc4b4aab-005a-4ffb-f8ce-e0d523763706"
      },
      "execution_count": null,
      "outputs": [
        {
          "output_type": "stream",
          "name": "stdout",
          "text": [
            "[67, 'pw', 4, 45, 18, 'skills', 23]\n"
          ]
        }
      ]
    },
    {
      "cell_type": "code",
      "source": [
        "# 20. Write a code to shuffle a given list randomely without using any built in shuffle function.\n",
        "lst=[23,45,78,11,51]\n",
        "random_lst=set(lst)\n",
        "print(random_lst)"
      ],
      "metadata": {
        "colab": {
          "base_uri": "https://localhost:8080/"
        },
        "id": "UB9bc1LUe3w1",
        "outputId": "8dfee69a-a9a3-4ee1-edbb-cb118ef20eb1"
      },
      "execution_count": null,
      "outputs": [
        {
          "output_type": "stream",
          "name": "stdout",
          "text": [
            "{11, 45, 78, 51, 23}\n"
          ]
        }
      ]
    },
    {
      "cell_type": "code",
      "source": [
        "# 21. Write a code that takes two tuples as input and returns a new tuple containing elements that are common to both input tuples.\n",
        "def find_common(t1,t2):\n",
        "  s1,s2=set(t1),set(t2)\n",
        "  common_element=s1.intersection(s2)\n",
        "  return tuple(common_element)\n",
        "tup1=(2,4,5,6)\n",
        "tup2=(3,5,6,9,10)\n",
        "ans=find_common(tup1,tup2)\n",
        "print(ans)"
      ],
      "metadata": {
        "id": "8Ka1B2E4cw0e",
        "colab": {
          "base_uri": "https://localhost:8080/"
        },
        "outputId": "549c38f7-38c5-4834-a203-3681a2cb462e"
      },
      "execution_count": null,
      "outputs": [
        {
          "output_type": "stream",
          "name": "stdout",
          "text": [
            "(5, 6)\n"
          ]
        }
      ]
    },
    {
      "cell_type": "code",
      "source": [
        "# 22. Create a code that prompts the user to enter two sets of integers separated by commas. Then, print the intersection of these two sets\n",
        "set1=set(input(\"Enter the numbers of set1 separated by commas:\").split(\",\"))\n",
        "set2=set(input(\"Enter the numbers of set2 separated by commas:\").split(\",\"))\n",
        "intersection_ele=set1.intersection(set2)\n",
        "print(intersection_ele)"
      ],
      "metadata": {
        "colab": {
          "base_uri": "https://localhost:8080/"
        },
        "id": "v_or-cWkRpp5",
        "outputId": "0d2ffba0-30d5-4893-d161-df219db82e3a"
      },
      "execution_count": null,
      "outputs": [
        {
          "output_type": "stream",
          "name": "stdout",
          "text": [
            "Enter the numbers of set1 separated by commas:2,4,6,7,8\n",
            "Enter the numbers of set2 separated by commas:4,6,5,8,9,10\n",
            "{'4', '6', '8'}\n"
          ]
        }
      ]
    },
    {
      "cell_type": "code",
      "source": [
        "# 23. Write a code to concatenate two tuples. The function should take two tuples as input and return a new tuple containing elements from both input tuples.\n",
        "def concatenate_2_tuples(tup1,tup2):\n",
        "  return(tup1+tup2)\n",
        "t1=(12,24,36,48,60)\n",
        "t2=(\"happy\",\"sad\",\"4\",\"4.5\")\n",
        "print(concatenate_2_tuples(t1,t2))"
      ],
      "metadata": {
        "colab": {
          "base_uri": "https://localhost:8080/"
        },
        "id": "uRKRSfXKXsNp",
        "outputId": "ae65ead2-1894-45cb-dc52-198be6e8b2db"
      },
      "execution_count": null,
      "outputs": [
        {
          "output_type": "stream",
          "name": "stdout",
          "text": [
            "(12, 24, 36, 48, 60, 'happy', 'sad', '4', '4.5')\n"
          ]
        }
      ]
    },
    {
      "cell_type": "code",
      "source": [
        "# 24. Develop a code that prompts the user to input two sets of strings. Then, print the elements that are present in the first set but not in the second set.\n",
        "s1=set(input(\"Enter the string elements of set1:\").split(\" \"))\n",
        "s2=set(input(\"Enter the string elements of set2:\").split(\" \"))\n",
        "print(s1.difference(s2))"
      ],
      "metadata": {
        "colab": {
          "base_uri": "https://localhost:8080/"
        },
        "id": "04fBwzz-ZHQl",
        "outputId": "432a96d5-1aad-41f3-a69a-8ce0bc13993b"
      },
      "execution_count": null,
      "outputs": [
        {
          "output_type": "stream",
          "name": "stdout",
          "text": [
            "Enter the string elements of set1:I love panipuri\n",
            "Enter the string elements of set2:I love chat\n",
            "{'panipuri'}\n"
          ]
        }
      ]
    },
    {
      "cell_type": "code",
      "source": [
        "# 27. Create a code that takes a tuple and two integers as input. The function should return the maximum and minimum values from the tuple using tuple unpacking.\n",
        "def find_min_max(input_tuple, a, b):\n",
        "    # Unpacking the tuple\n",
        "    *_, min_value, max_value = sorted(input_tuple[a:b])\n",
        "\n",
        "    return min_value, max_value\n",
        "\n",
        "# Example usage\n",
        "input_tuple = tuple(map(int,input(\"Enter the tuple elements (separated by spaces): \").split(\" \")))\n",
        "a = int(input(\"Enter the first integer (start index): \"))\n",
        "b = int(input(\"Enter the second integer (end index): \"))\n",
        "\n",
        "# Find and print the min and max values\n",
        "min_val, max_val = find_min_max(input_tuple, a, b)\n",
        "print(f\"Minimum value: {min_val}, Maximum value: {max_val}\")"
      ],
      "metadata": {
        "colab": {
          "base_uri": "https://localhost:8080/"
        },
        "id": "vKMpdI3n7cY4",
        "outputId": "ddc0d447-e6e8-4f56-f749-1cab345003c4"
      },
      "execution_count": null,
      "outputs": [
        {
          "output_type": "stream",
          "name": "stdout",
          "text": [
            "Enter the tuple elements (separated by spaces): 5 2 9 4 7 6\n",
            "Enter the first integer (start index): 1\n",
            "Enter the second integer (end index): 5\n",
            "Minimum value: 7, Maximum value: 9\n"
          ]
        }
      ]
    },
    {
      "cell_type": "code",
      "source": [],
      "metadata": {
        "id": "hTUTQh5Sb7aE"
      },
      "execution_count": null,
      "outputs": []
    },
    {
      "cell_type": "code",
      "source": [
        "# 26. Write a code that prompts the user to input two sets of characters. Then, print the union pf these two sets\n",
        "set1=set(input(\"Enter the character elements for set1 separated by commas:\").split(\",\"))\n",
        "set2=set(input(\"Enter the character elements for set2 separated by commas:\").split(\",\"))\n",
        "print(set1.union(set2))"
      ],
      "metadata": {
        "colab": {
          "base_uri": "https://localhost:8080/"
        },
        "id": "626eaa0fZjJ2",
        "outputId": "ee3ca233-2e50-4e16-f6d0-078199517691"
      },
      "execution_count": null,
      "outputs": [
        {
          "output_type": "stream",
          "name": "stdout",
          "text": [
            "Enter the character elements for set1 separated by commas:a,e,i,o,u\n",
            "Enter the character elements for set2 separated by commas:v,o,w,e,l\n",
            "{'i', 'u', 'o', 'l', 'w', 'v', 'e', 'a'}\n"
          ]
        }
      ]
    },
    {
      "cell_type": "code",
      "source": [
        "# 25. Create a code that takes a tuple and two integers as input. The function should return a new tuple containing elements from the original tuple wihtin the specified range of indices.\n",
        "def slicing_of_tuple(t,r1,r2):\n",
        "  return t[r1:r2]\n",
        "tup,rng1,rng2=tuple(input(\"Enter the elements of a tuple separated by spaces:\").split()),int(input(\"Enter the starting index for slicing:\")),int(input(\"Enter the ending index for slicing:\"))\n",
        "newtuple=slicing_of_tuple(tup,rng1,rng2)\n",
        "print(newtuple)"
      ],
      "metadata": {
        "colab": {
          "base_uri": "https://localhost:8080/"
        },
        "id": "N7U7e9vUcW6k",
        "outputId": "a3a59a30-ab75-4e03-92b8-e4bab1ac467b"
      },
      "execution_count": null,
      "outputs": [
        {
          "output_type": "stream",
          "name": "stdout",
          "text": [
            "Enter the elements of a tuple separated by spaces:2 3 4 11 7 8 0 9 1\n",
            "Enter the starting index for slicing:2\n",
            "Enter the ending index for slicing:8\n",
            "('4', '11', '7', '8', '0', '9')\n"
          ]
        }
      ]
    },
    {
      "cell_type": "code",
      "source": [
        "# 28. Create a code that defines two sets of integers. Then, print the union,intersection, and difference of these two sets.\n",
        "s1=set(input(\"Enter the character elements for set1 separated by commas:\").split(\",\"))\n",
        "s2=set(input(\"Enter the character elements for set2 separated by commas:\").split(\",\"))\n",
        "union_set=s1.union(s2)\n",
        "intersection_set=s1.intersection(s2)\n",
        "difference_set=s1.difference(s2)\n",
        "print(f\"Union:{union_set}\\nIntersection:{intersection_set}\\nDifference:{difference_set}\")"
      ],
      "metadata": {
        "colab": {
          "base_uri": "https://localhost:8080/"
        },
        "id": "F6eSOPegfioD",
        "outputId": "5b1c9bbc-1759-4d55-e857-1fa364e4b124"
      },
      "execution_count": null,
      "outputs": [
        {
          "output_type": "stream",
          "name": "stdout",
          "text": [
            "Enter the character elements for set1 separated by commas:2,5,6,7,8,11,13\n",
            "Enter the character elements for set2 separated by commas:3,5,11,18,24,55\n",
            "Union:{'18', '13', '8', '7', '6', '55', '2', '24', '5', '3', '11'}\n",
            "Intersection:{'5', '11'}\n",
            "Difference:{'13', '8', '7', '6', '2'}\n"
          ]
        }
      ]
    },
    {
      "cell_type": "code",
      "source": [
        "# 29. Write a code that takes a tuple and an element as input. The function should return the count of occurrences of the given element in the tuple.\n",
        "def count_element(t,item):\n",
        "  return t.count(item)\n",
        "tup,element=tuple(input(\"Enter the elements of a tuple separated by spaces:\").split()),input(\"Enter an element of given tuple to count it's occurrences:\")\n",
        "count=count_element(tup,element)\n",
        "print(count)\n"
      ],
      "metadata": {
        "colab": {
          "base_uri": "https://localhost:8080/"
        },
        "id": "fK56RPUOhj5F",
        "outputId": "52664cd9-09fe-47cc-be85-1a778bf0b87a"
      },
      "execution_count": null,
      "outputs": [
        {
          "output_type": "stream",
          "name": "stdout",
          "text": [
            "Enter the elements of a tuple separated by spaces:2 1 4 1 6 23 1 11 1\n",
            "Enter an element of given tuple to count it's occurrences:1\n",
            "4\n"
          ]
        }
      ]
    },
    {
      "cell_type": "code",
      "source": [
        "# 30. Develop a code that prompts the user to input two sets of string. Then, print the symmetric difference of these two sets.\n",
        "s1=set(input(\"Enter the string elements for set1 separated by commas:\").split(\",\"))\n",
        "s2=set(input(\"Enter the string elements for set2 separated by commas:\").split(\",\"))\n",
        "print(f\"The symmetric difference of these two sets of string is:{s1.symmetric_difference(s2)}\")"
      ],
      "metadata": {
        "colab": {
          "base_uri": "https://localhost:8080/"
        },
        "id": "ORfKd-fyljLK",
        "outputId": "17102df2-e7b3-4e00-d468-e71fc2cb4f0d"
      },
      "execution_count": null,
      "outputs": [
        {
          "output_type": "stream",
          "name": "stdout",
          "text": [
            "Enter the string elements for set1 separated by commas:one,two,three,four,five\n",
            "Enter the string elements for set2 separated by commas:three,five,seven,nine,eleven\n",
            "The symmetric difference of these two sets of string is:{'nine', 'two', 'one', 'eleven', 'four', 'seven'}\n"
          ]
        }
      ]
    },
    {
      "cell_type": "code",
      "source": [
        "# 31. Write a code that takes a list of words as input and return a dictionary where the keys are unique words and the values are the frequencies of those words in the input list.\n",
        "def freq_words_list(lst):\n",
        "  dic={}\n",
        "  for word in lst:\n",
        "    count=lst.count(word)\n",
        "    dic[word]=count\n",
        "  return dic\n",
        "l=list(input(\"Enter the list of words:\").upper().split())\n",
        "ans=freq_words_list(l)\n",
        "print(ans)"
      ],
      "metadata": {
        "colab": {
          "base_uri": "https://localhost:8080/"
        },
        "id": "zC2As7LdzUYp",
        "outputId": "f641e5e2-3d39-47e9-aadd-b4476d0e87f5"
      },
      "execution_count": null,
      "outputs": [
        {
          "output_type": "stream",
          "name": "stdout",
          "text": [
            "Enter the list of words:G o o g l e c o l a b\n",
            "{'G': 2, 'O': 3, 'L': 2, 'E': 1, 'C': 1, 'A': 1, 'B': 1}\n"
          ]
        }
      ]
    },
    {
      "cell_type": "code",
      "source": [
        "# 32. Write a code that takes two dictioinaries as input and merge them into a single dictionary. If there are common keys, the values should be added together.\n",
        "def input_dict():\n",
        "  n=int(input(\"Enter the no. of key-value pairs:\"))\n",
        "  result={}\n",
        "  for i in range(n):\n",
        "    key=input(\"Enter key:\").lower()\n",
        "    value=input(\"Enter value:\")\n",
        "    if value.isdigit():\n",
        "      value=int(value)\n",
        "      result[key]=value\n",
        "  return result\n",
        "def merge_dict(dict1,dict2):\n",
        "  merged=dict1.copy()\n",
        "  for key,value in dict2.items():\n",
        "    if key in merged:\n",
        "      merged[key]=merged[key]+value\n",
        "    else:\n",
        "      merged[key]=value\n",
        "  return merged\n",
        "dict1=input_dict()\n",
        "dict2=input_dict()\n",
        "merged_dict=merge_dict(dict1,dict2)\n",
        "print(merged_dict)\n"
      ],
      "metadata": {
        "colab": {
          "base_uri": "https://localhost:8080/"
        },
        "id": "xXBX7rsD5IJs",
        "outputId": "4907096b-6571-4189-c977-92db7ef0a678"
      },
      "execution_count": null,
      "outputs": [
        {
          "output_type": "stream",
          "name": "stdout",
          "text": [
            "Enter the no. of key-value pairs:3\n",
            "Enter key:apple\n",
            "Enter value:2\n",
            "Enter key:banana\n",
            "Enter value:1\n",
            "Enter key:guava\n",
            "Enter value:3\n",
            "Enter the no. of key-value pairs:2\n",
            "Enter key:Apple\n",
            "Enter value:3\n",
            "Enter key:potato\n",
            "Enter value:5\n",
            "{'apple': 5, 'banana': 1, 'guava': 3, 'potato': 5}\n"
          ]
        }
      ]
    },
    {
      "cell_type": "code",
      "source": [
        "# 33.\n",
        "from functools import reduce\n",
        "\n",
        "def get_value_from_dict(data_dict, keys):\n",
        "    try:\n",
        "        return reduce(lambda d, k: d[k], keys,data_dict)\n",
        "    except KeyError:\n",
        "        return None\n",
        "\n",
        "# Example Usage\n",
        "nested_dict = {\"user\": {\"profile\": {\"name\": \"Alice\", \"age\": 30}}}\n",
        "\n",
        "print(get_value_from_dict(nested_dict, [\"user\", \"profile\", \"name\"]))  # Output: Alice\n",
        "print(get_value_from_dict(nested_dict, [\"user\", \"profile\", \"address\"]))  # Output: None\n"
      ],
      "metadata": {
        "id": "hXt_iZnNIDJ5",
        "colab": {
          "base_uri": "https://localhost:8080/"
        },
        "outputId": "a3f82c96-8f86-4481-d80a-c995d079296b"
      },
      "execution_count": 5,
      "outputs": [
        {
          "output_type": "stream",
          "name": "stdout",
          "text": [
            "Alice\n",
            "None\n"
          ]
        }
      ]
    },
    {
      "cell_type": "code",
      "source": [
        "# 34.\n",
        "def sort_dict_by_value(input_dict, ascending=True):\n",
        "    \"\"\"\n",
        "    Sort a dictionary by its values.\n",
        "\n",
        "    Parameters:\n",
        "    input_dict (dict): The dictionary to sort.\n",
        "    ascending (bool): If True, sort in ascending order; if False, sort in descending order.\n",
        "\n",
        "    Returns:\n",
        "    dict: A new dictionary sorted by values.\n",
        "    \"\"\"\n",
        "    sorted_dict = dict(sorted(input_dict.items(), key=lambda item: item[1], reverse=not ascending))\n",
        "    return sorted_dict\n",
        "\n",
        "# Example usage\n",
        "example_dict = {'a': 3, 'b': 1, 'c': 2}\n",
        "sorted_asc = sort_dict_by_value(example_dict, ascending=True)\n",
        "sorted_desc = sort_dict_by_value(example_dict, ascending=False)\n",
        "\n",
        "print(\"Sorted in ascending order:\", sorted_asc)\n",
        "print(\"Sorted in descending order:\", sorted_desc)\n"
      ],
      "metadata": {
        "colab": {
          "base_uri": "https://localhost:8080/"
        },
        "id": "Fxhvw-AVC8n5",
        "outputId": "98da9178-5023-4b1b-bc97-91348a6f242c"
      },
      "execution_count": 6,
      "outputs": [
        {
          "output_type": "stream",
          "name": "stdout",
          "text": [
            "Sorted in ascending order: {'b': 1, 'c': 2, 'a': 3}\n",
            "Sorted in descending order: {'a': 3, 'c': 2, 'b': 1}\n"
          ]
        }
      ]
    },
    {
      "cell_type": "code",
      "source": [
        "# 35.\n",
        "def create_inverted_dictionary(data):\n",
        "    \"\"\"\n",
        "    Create an inverted dictionary from the given data.\n",
        "\n",
        "    Parameters:\n",
        "        data (dict): A dictionary where keys are unique items and values are associated attributes.\n",
        "\n",
        "    Returns:\n",
        "        dict: An inverted dictionary where each attribute maps to a list of keys that have that attribute.\n",
        "    \"\"\"\n",
        "    inverted_dict = {}\n",
        "\n",
        "    for key, value in data.items():\n",
        "        # If the value is already in the inverted dictionary, append the key to the list.\n",
        "        if value in inverted_dict:\n",
        "            inverted_dict[value].append(key)\n",
        "        else:\n",
        "            # Otherwise, create a new entry with the value as the key and the key as the first item in the list.\n",
        "            inverted_dict[value] = [key]\n",
        "\n",
        "    return inverted_dict\n",
        "\n",
        "# Example usage:\n",
        "data = {\n",
        "    'item1': 'A',\n",
        "    'item2': 'B',\n",
        "    'item3': 'A',\n",
        "    'item4': 'C',\n",
        "    'item5': 'B'\n",
        "}\n",
        "\n",
        "inverted_dict = create_inverted_dictionary(data)\n",
        "print(inverted_dict)\n"
      ],
      "metadata": {
        "colab": {
          "base_uri": "https://localhost:8080/"
        },
        "id": "H8yTgUz-K3Mi",
        "outputId": "298fc089-fb23-42ce-8f86-53bbe3079e5a"
      },
      "execution_count": 7,
      "outputs": [
        {
          "output_type": "stream",
          "name": "stdout",
          "text": [
            "{'A': ['item1', 'item3'], 'B': ['item2', 'item5'], 'C': ['item4']}\n"
          ]
        }
      ]
    }
  ]
}