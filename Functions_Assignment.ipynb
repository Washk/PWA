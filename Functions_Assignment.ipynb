{
  "nbformat": 4,
  "nbformat_minor": 0,
  "metadata": {
    "colab": {
      "provenance": [],
      "authorship_tag": "ABX9TyPjguv5vBS/7Kq1PsKW9dH9",
      "include_colab_link": true
    },
    "kernelspec": {
      "name": "python3",
      "display_name": "Python 3"
    },
    "language_info": {
      "name": "python"
    }
  },
  "cells": [
    {
      "cell_type": "markdown",
      "metadata": {
        "id": "view-in-github",
        "colab_type": "text"
      },
      "source": [
        "<a href=\"https://colab.research.google.com/github/Washk/PWA/blob/main/Functions_Assignment.ipynb\" target=\"_parent\"><img src=\"https://colab.research.google.com/assets/colab-badge.svg\" alt=\"Open In Colab\"/></a>"
      ]
    },
    {
      "cell_type": "code",
      "execution_count": null,
      "metadata": {
        "colab": {
          "base_uri": "https://localhost:8080/"
        },
        "id": "jaxAZGwJHOuQ",
        "outputId": "85f51ed0-b7ca-4ec4-ea01-03c6c2c42b2f"
      },
      "outputs": [
        {
          "output_type": "stream",
          "name": "stdout",
          "text": [
            "12\n"
          ]
        }
      ],
      "source": [
        "# 1. Write a Python function that takes a list of numbers as input and returns the sum of all even numbers in the list.\n",
        "def sum_of_list(l):\n",
        "  sum=0\n",
        "  for item in l:\n",
        "    if item%2==0:\n",
        "      sum+=item\n",
        "  return sum\n",
        "list1=[2,5,4,6,7,9]\n",
        "sum=sum_of_list(list1)\n",
        "print(sum)"
      ]
    },
    {
      "cell_type": "code",
      "source": [
        "# 2. Create a Python function that accept a string and returns the reverse of that string.\n",
        "def reverse_of_string(str):\n",
        "  return str[::-1]\n",
        "string=input(\"Enter the string to reverse it:\")\n",
        "res=reverse_of_string(string)\n",
        "print(res)"
      ],
      "metadata": {
        "colab": {
          "base_uri": "https://localhost:8080/"
        },
        "id": "p_Qw1zXEIKlx",
        "outputId": "aa17e226-c8b1-4817-c1f5-52e18ab7a5eb"
      },
      "execution_count": null,
      "outputs": [
        {
          "output_type": "stream",
          "name": "stdout",
          "text": [
            "Enter the string to reverse it:Apple\n",
            "elppA\n"
          ]
        }
      ]
    },
    {
      "cell_type": "code",
      "source": [
        "# 3. Implement a Python function that takes a list of integers and returns a new list containing the square of each number.\n",
        "def square_of_list(l1):\n",
        "  return [x*x for x in l1]\n",
        "lt=[2,3,4,6]\n",
        "res=square_of_list(lt)\n",
        "print(res)\n"
      ],
      "metadata": {
        "colab": {
          "base_uri": "https://localhost:8080/"
        },
        "id": "OOXExMAVJGVh",
        "outputId": "6699ef10-b1c0-4fa3-aad4-070c72a4c869"
      },
      "execution_count": null,
      "outputs": [
        {
          "output_type": "stream",
          "name": "stdout",
          "text": [
            "[4, 9, 16, 36]\n"
          ]
        }
      ]
    },
    {
      "cell_type": "code",
      "source": [
        "# 4. Write a Python function that checks if a given number is prime or not from 1 to 200\n",
        "def check_prime(num):\n",
        "  count=0\n",
        "  for i in range(1,num+1):\n",
        "    if num%i==0:\n",
        "      count+=1\n",
        "  if count==2:\n",
        "    return True\n",
        "\n",
        "for i in range(1,201):\n",
        "  res=check_prime(i)\n",
        "  if res==True:\n",
        "    print(i)\n"
      ],
      "metadata": {
        "colab": {
          "base_uri": "https://localhost:8080/"
        },
        "id": "Ml8DamInJgxE",
        "outputId": "238f353d-fa39-4b05-f4c1-861635849a8e"
      },
      "execution_count": null,
      "outputs": [
        {
          "output_type": "stream",
          "name": "stdout",
          "text": [
            "2\n",
            "3\n",
            "5\n",
            "7\n",
            "11\n",
            "13\n",
            "17\n",
            "19\n",
            "23\n",
            "29\n",
            "31\n",
            "37\n",
            "41\n",
            "43\n",
            "47\n",
            "53\n",
            "59\n",
            "61\n",
            "67\n",
            "71\n",
            "73\n",
            "79\n",
            "83\n",
            "89\n",
            "97\n",
            "101\n",
            "103\n",
            "107\n",
            "109\n",
            "113\n",
            "127\n",
            "131\n",
            "137\n",
            "139\n",
            "149\n",
            "151\n",
            "157\n",
            "163\n",
            "167\n",
            "173\n",
            "179\n",
            "181\n",
            "191\n",
            "193\n",
            "197\n",
            "199\n"
          ]
        }
      ]
    },
    {
      "cell_type": "code",
      "source": [
        "# 5. Create an iterator class in Python that generates the Fibonacci series up to a specified number of terms.\n",
        "class Fibo_iterator:\n",
        "\n",
        "  def fibo(n):\n",
        "\n",
        "    a=0\n",
        "    b=1\n",
        "    for i in range(n):\n",
        "      yield a\n",
        "      b,a=a+b,b\n",
        "  res=fibo(10)\n",
        "  for i in range(10):\n",
        "    print(next(res),end=\",\")\n",
        "\n",
        "\n",
        "\n",
        "\n"
      ],
      "metadata": {
        "colab": {
          "base_uri": "https://localhost:8080/"
        },
        "id": "02pW_5smNpNY",
        "outputId": "b0f627fe-d299-4b56-913b-668d25f0d5e1"
      },
      "execution_count": null,
      "outputs": [
        {
          "output_type": "stream",
          "name": "stdout",
          "text": [
            "0,1,1,2,3,5,8,13,21,34,"
          ]
        }
      ]
    },
    {
      "cell_type": "code",
      "source": [
        "# 6. Write a generator function in Python that yields the power of 2 up to a given exponent.\n",
        "def power_generator(exp):\n",
        "  yield 2**exp\n",
        "res=power_generator(100)\n",
        "print(next(res))"
      ],
      "metadata": {
        "colab": {
          "base_uri": "https://localhost:8080/"
        },
        "id": "TE119U7uZGkh",
        "outputId": "42c5aa99-6b28-4019-c817-f3f2b8803b85"
      },
      "execution_count": null,
      "outputs": [
        {
          "output_type": "stream",
          "name": "stdout",
          "text": [
            "1267650600228229401496703205376\n"
          ]
        }
      ]
    },
    {
      "cell_type": "code",
      "source": [
        "# 7. Implement a generator function that reads a file line by line and yields each line as a string.\n",
        "def read_file_line_by_line(file_path):\n",
        "    with open(file_path, 'r') as file:\n",
        "        for line in file:\n",
        "            yield line.strip()\n"
      ],
      "metadata": {
        "id": "rrF9fK7Y4CEO"
      },
      "execution_count": 4,
      "outputs": []
    },
    {
      "cell_type": "code",
      "source": [
        "# 8. Use a lambda function in Python to sort a list of tuples based on the second element of each tuple.\n",
        "l=[(2,33,4,5),(2,4,5),(14,13,12,18)]\n",
        "res=sorted(l,key= lambda l: l[1])\n",
        "print(res)\n"
      ],
      "metadata": {
        "colab": {
          "base_uri": "https://localhost:8080/"
        },
        "id": "oTU1hXZb3l3W",
        "outputId": "30b2e144-35e8-4cac-9c4c-369e545eec3e"
      },
      "execution_count": null,
      "outputs": [
        {
          "output_type": "stream",
          "name": "stdout",
          "text": [
            "[(2, 4, 5), (14, 13, 12, 18), (2, 33, 4, 5)]\n"
          ]
        }
      ]
    },
    {
      "cell_type": "code",
      "source": [
        "\n",
        "# 9. Write a Python program that uses map() to convert a list of temperatures from celcius to Fahrenheit.\n",
        "l=[33,45,25,56,78,89]\n",
        "res1= lambda deg : (9/5*deg)+32\n",
        "list(map(res1,l))"
      ],
      "metadata": {
        "colab": {
          "base_uri": "https://localhost:8080/"
        },
        "id": "mFGQNwjYAOYC",
        "outputId": "ba6e5301-b12e-42fe-939a-08a5480de6a7"
      },
      "execution_count": null,
      "outputs": [
        {
          "output_type": "execute_result",
          "data": {
            "text/plain": [
              "[91.4, 113.0, 77.0, 132.8, 172.4, 192.20000000000002]"
            ]
          },
          "metadata": {},
          "execution_count": 19
        }
      ]
    },
    {
      "cell_type": "code",
      "source": [
        "# 10. Create a Python program that uses filter() to remove all the vowels from a given string.\n",
        "string=input(\"Enter a string:\")\n",
        "print(list(filter(lambda ch : ch==\"A\" or ch==\"E\" or ch==\"I\" or ch==\"O\" or ch==\"U\" or ch==\"a\" or ch==\"e\" or ch==\"i\" or ch==\"o\" or ch==\"u\",string)))\n",
        "print(string)"
      ],
      "metadata": {
        "colab": {
          "base_uri": "https://localhost:8080/"
        },
        "id": "hgpxFzPHDn7u",
        "outputId": "1c536dad-2a1f-48ad-943e-25c20815e6ec"
      },
      "execution_count": null,
      "outputs": [
        {
          "output_type": "stream",
          "name": "stdout",
          "text": [
            "Enter a string:Love is blind\n",
            "['o', 'e', 'i', 'i']\n",
            "Love is blind\n"
          ]
        }
      ]
    },
    {
      "cell_type": "code",
      "source": [
        "# 11.\n",
        "\n",
        "orders=[[34587, 4, 40.95],\n",
        "    [98762, 5, 56.80],\n",
        "    [77226, 3, 32.95],\n",
        "    [88112, 3, 24.99]\n",
        "]\n",
        "\n",
        "result = list(map(lambda order: (order[0], order[1] * order[2] + (10 if order[1] * order[2] < 100 else 0)), orders))\n",
        "\n",
        "# Output the result\n",
        "print(result)\n"
      ],
      "metadata": {
        "id": "7ISAhs1CBusa",
        "colab": {
          "base_uri": "https://localhost:8080/"
        },
        "outputId": "b990af93-df0a-4bb0-b13e-e6b623b75add"
      },
      "execution_count": null,
      "outputs": [
        {
          "output_type": "stream",
          "name": "stdout",
          "text": [
            "[(34587, 163.8), (98762, 284.0), (77226, 108.85000000000001), (88112, 84.97)]\n"
          ]
        }
      ]
    }
  ]
}