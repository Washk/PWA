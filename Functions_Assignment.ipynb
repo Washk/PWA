{
  "nbformat": 4,
  "nbformat_minor": 0,
  "metadata": {
    "colab": {
      "provenance": [],
      "authorship_tag": "ABX9TyOYl8Rwp8A/+9HWlYgi+OV9",
      "include_colab_link": true
    },
    "kernelspec": {
      "name": "python3",
      "display_name": "Python 3"
    },
    "language_info": {
      "name": "python"
    }
  },
  "cells": [
    {
      "cell_type": "markdown",
      "metadata": {
        "id": "view-in-github",
        "colab_type": "text"
      },
      "source": [
        "<a href=\"https://colab.research.google.com/github/Washk/PWA/blob/main/Functions_Assignment.ipynb\" target=\"_parent\"><img src=\"https://colab.research.google.com/assets/colab-badge.svg\" alt=\"Open In Colab\"/></a>"
      ]
    },
    {
      "cell_type": "code",
      "execution_count": null,
      "metadata": {
        "colab": {
          "base_uri": "https://localhost:8080/"
        },
        "id": "jaxAZGwJHOuQ",
        "outputId": "85f51ed0-b7ca-4ec4-ea01-03c6c2c42b2f"
      },
      "outputs": [
        {
          "output_type": "stream",
          "name": "stdout",
          "text": [
            "12\n"
          ]
        }
      ],
      "source": [
        "# 1. Write a Python function that takes a list of numbers as input and returns the sum of all even numbers in the list.\n",
        "def sum_of_list(l):\n",
        "  sum=0\n",
        "  for item in l:\n",
        "    if item%2==0:\n",
        "      sum+=item\n",
        "  return sum\n",
        "list1=[2,5,4,6,7,9]\n",
        "sum=sum_of_list(list1)\n",
        "print(sum)"
      ]
    },
    {
      "cell_type": "code",
      "source": [
        "# 2. Create a Python function that accept a string and returns the reverse of that string.\n",
        "def reverse_of_string(str):\n",
        "  return str[::-1]\n",
        "string=input(\"Enter the string to reverse it:\")\n",
        "res=reverse_of_string(string)\n",
        "print(res)"
      ],
      "metadata": {
        "colab": {
          "base_uri": "https://localhost:8080/"
        },
        "id": "p_Qw1zXEIKlx",
        "outputId": "aa17e226-c8b1-4817-c1f5-52e18ab7a5eb"
      },
      "execution_count": null,
      "outputs": [
        {
          "output_type": "stream",
          "name": "stdout",
          "text": [
            "Enter the string to reverse it:Apple\n",
            "elppA\n"
          ]
        }
      ]
    },
    {
      "cell_type": "code",
      "source": [
        "# 3. Implement a Python function that takes a list of integers and returns a new list containing the square of each number.\n",
        "def square_of_list(l1):\n",
        "  return [x*x for x in l1]\n",
        "lt=[2,3,4,6]\n",
        "res=square_of_list(lt)\n",
        "print(res)\n"
      ],
      "metadata": {
        "colab": {
          "base_uri": "https://localhost:8080/"
        },
        "id": "OOXExMAVJGVh",
        "outputId": "6699ef10-b1c0-4fa3-aad4-070c72a4c869"
      },
      "execution_count": null,
      "outputs": [
        {
          "output_type": "stream",
          "name": "stdout",
          "text": [
            "[4, 9, 16, 36]\n"
          ]
        }
      ]
    },
    {
      "cell_type": "code",
      "source": [
        "# 4. Write a Python function that checks if a given number is prime or not from 1 to 200\n",
        "def check_prime(num):\n",
        "  count=0\n",
        "  for i in range(1,num+1):\n",
        "    if num%i==0:\n",
        "      count+=1\n",
        "  if count==2:\n",
        "    return True\n",
        "\n",
        "for i in range(1,201):\n",
        "  res=check_prime(i)\n",
        "  if res==True:\n",
        "    print(i)\n"
      ],
      "metadata": {
        "colab": {
          "base_uri": "https://localhost:8080/"
        },
        "id": "Ml8DamInJgxE",
        "outputId": "238f353d-fa39-4b05-f4c1-861635849a8e"
      },
      "execution_count": null,
      "outputs": [
        {
          "output_type": "stream",
          "name": "stdout",
          "text": [
            "2\n",
            "3\n",
            "5\n",
            "7\n",
            "11\n",
            "13\n",
            "17\n",
            "19\n",
            "23\n",
            "29\n",
            "31\n",
            "37\n",
            "41\n",
            "43\n",
            "47\n",
            "53\n",
            "59\n",
            "61\n",
            "67\n",
            "71\n",
            "73\n",
            "79\n",
            "83\n",
            "89\n",
            "97\n",
            "101\n",
            "103\n",
            "107\n",
            "109\n",
            "113\n",
            "127\n",
            "131\n",
            "137\n",
            "139\n",
            "149\n",
            "151\n",
            "157\n",
            "163\n",
            "167\n",
            "173\n",
            "179\n",
            "181\n",
            "191\n",
            "193\n",
            "197\n",
            "199\n"
          ]
        }
      ]
    }
  ]
}